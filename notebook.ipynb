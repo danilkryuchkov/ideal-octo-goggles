{
 "cells": [
  {
   "cell_type": "code",
   "execution_count": 1,
   "metadata": {},
   "outputs": [],
   "source": [
    "import requests\n",
    "from bs4 import BeautifulSoup\n",
    "import re\n",
    "import pandas as pd\n",
    "\n",
    "food_url = 'https://tarkov-market.com/tag/food'\n",
    "drink_url = 'https://tarkov-market.com/tag/drinks'\n",
    "# URL to be scraped\n",
    "food_page = requests.get(food_url)\n",
    "drink_page = requests.get(drink_url)\n",
    "\n",
    "\n",
    "food_soup = BeautifulSoup(food_page.content, 'html.parser')\n",
    "drink_soup = BeautifulSoup(drink_page.content, 'html.parser')\n"
   ]
  },
  {
   "cell_type": "code",
   "execution_count": 2,
   "metadata": {},
   "outputs": [],
   "source": [
    "food_table_list_div = food_soup.find('div', class_='table-list')\n",
    "drink_table_list_div = drink_soup.find('div', class_='table-list')"
   ]
  },
  {
   "cell_type": "code",
   "execution_count": 3,
   "metadata": {},
   "outputs": [],
   "source": [
    "provisions_price_dict = {}"
   ]
  },
  {
   "cell_type": "code",
   "execution_count": null,
   "metadata": {},
   "outputs": [],
   "source": [
    "all_food_rows = food_table_list_div.find_all('div', class_='row')\n",
    "all_drink_rows = drink_table_list_div.find_all('div', class_='row')\n",
    "\n",
    "    # Iterate over each child div\n",
    "for child_div in all_food_rows[1:]:\n",
    "    # Do something with each child div\n",
    "    #print(child_div.prettify())\n",
    "    price = child_div.find('span', class_='price-main')\n",
    "    price_num = re.sub(r'\\D', '', price.text)\n",
    "    print(price_num)\n",
    "    print(price.text)\n",
    "    name = child_div.find('span', class_='name').text.replace('\"', '')\n",
    "    print(name)\n",
    "    print('-------------------')\n",
    "    if name == 'Bottle of Tarkovskaya vodka (bad)':\n",
    "        continue\n",
    "    provisions_price_dict[name] = int(price_num)\n",
    "\n",
    "for child_div in all_drink_rows[1:]:\n",
    "    # Do something with each child div\n",
    "    #print(child_div.prettify())\n",
    "    price = child_div.find('span', class_='price-main')\n",
    "    price_num = re.sub(r'\\D', '', price.text)\n",
    "    print(price_num)\n",
    "    print(price.text)\n",
    "    name = child_div.find('span', class_='name').text.replace('\"', '')\n",
    "    print(name)\n",
    "    print('-------------------')\n",
    "    if name == 'Bottle of Tarkovskaya vodka (bad)':\n",
    "        continue\n",
    "    provisions_price_dict[name] = int(price_num)\n",
    "    \n",
    "    "
   ]
  },
  {
   "cell_type": "code",
   "execution_count": null,
   "metadata": {},
   "outputs": [],
   "source": [
    "from items_dict import items_dict\n",
    "\n",
    "for item in items_dict.items():\n",
    "    print(item)"
   ]
  },
  {
   "cell_type": "code",
   "execution_count": null,
   "metadata": {},
   "outputs": [],
   "source": [
    "for item in provisions_price_dict.items():\n",
    "    print(item)"
   ]
  },
  {
   "cell_type": "code",
   "execution_count": null,
   "metadata": {},
   "outputs": [],
   "source": [
    "full_dict = {}\n",
    "for key, price_24h_avg in provisions_price_dict.items():\n",
    "    energy, hydration = items_dict[key]\n",
    "    full_dict[key] = [price_24h_avg, energy, hydration]\n",
    "    print(f\"name: {key}, price: {price_24h_avg}, energy: {energy}, hydration: {hydration}\")\n"
   ]
  },
  {
   "cell_type": "code",
   "execution_count": 9,
   "metadata": {},
   "outputs": [],
   "source": [
    "# Set column names\n",
    "columns = ['name', 'price_24h_avg', 'hydration', 'energy']\n",
    "\n",
    "df = pd.DataFrame.from_dict(full_dict, orient='index', columns=['price', 'energy', 'hydration']).reset_index()\n",
    "\n",
    "# Rename the 'index' column to 'name'\n",
    "df = df.rename(columns={'index': 'name'})\n"
   ]
  },
  {
   "cell_type": "markdown",
   "metadata": {},
   "source": [
    "================================================================================================================================\n",
    "DF ready\n",
    "================================================================================================================================"
   ]
  },
  {
   "cell_type": "code",
   "execution_count": null,
   "metadata": {},
   "outputs": [],
   "source": [
    "for name, attrs in full_dict.items():\n",
    "    print(f\"name: {name}, price: {attrs[0]}, energy: {attrs[1]}, hydration: {attrs[2]}\")"
   ]
  },
  {
   "cell_type": "code",
   "execution_count": 21,
   "metadata": {},
   "outputs": [
    {
     "name": "stdout",
     "output_type": "stream",
     "text": [
      "starting energy: 0, starting hydration: 0\n",
      "target energy: 100, target hydration: 100\n",
      "need to consume 100 energy and 100 hydration\n",
      "minimal price price to reach the goal: 48843\n",
      "achieved by: \n",
      "    name: Iskra ration pack, price: 23087, energy: 80, hydration: 0\n",
      "    name: Aquamari water bottle with filter, price: 25756, energy: 20, hydration: 100\n",
      "final energy: 100\n",
      "final hydration: 100\n"
     ]
    }
   ],
   "source": [
    "def best_to_consume(current_energy, current_hydration, min_energy, min_hydration, df):\n",
    "    \"\"\"\n",
    "    Returns the best item to consume based on the current energy and hydration levels.\n",
    "    \"\"\"\n",
    "    # Calculate the difference between current energy and hydration levels and \n",
    "\n",
    "    dp_arr = [[float('inf') for i in range(total_hydration_columns)] for j in range(total_energy_rows)]\n",
    "\n",
    "current_energy, current_hydration, min_energy, min_hydration = 0, 0, 100, 100\n",
    "\n",
    "energy_diff = min_energy - current_energy\n",
    "hydration_diff = min_hydration - current_hydration\n",
    "total_energy_rows = energy_diff + 100\n",
    "total_hydration_columns = hydration_diff + 100\n",
    "\n",
    "dp_arr = [[float('inf') for i in range(total_hydration_columns)] for j in range(total_energy_rows)]\n",
    "dp_arr[0][0] = 0\n",
    "dp_provisions_arr = [[[] for i in range(total_hydration_columns)] for j in range(total_energy_rows)]\n",
    "#dp_provisions_arr[0][0] = []\n",
    "valid_start_points = [(0,0)]\n",
    "\n",
    "while valid_start_points:\n",
    "    start_energy_row, start_hydration_column = valid_start_points.pop(0)\n",
    "    #print(f\"trying starting point (e,h): {start_energy_row}, {start_hydration_column}\")\n",
    "\n",
    "    if start_energy_row >= energy_diff and start_hydration_column >= hydration_diff:\n",
    "        #print(f\"  starting point too far, removing (e,h): {start_energy_row}, {start_hydration_column}\")\n",
    "        continue\n",
    "\n",
    "    for name, price, energy, hydration in df.values:\n",
    "\n",
    "\n",
    "        #print(f\"  starting point valid, jumping from (e,h): {start_energy_row}, {start_hydration_column}\")\n",
    "        result_energy_row = start_energy_row + energy\n",
    "        result_hydration_column = start_hydration_column + hydration\n",
    "\n",
    "        #check for out of bounds/negative effects\n",
    "        if result_energy_row >= total_energy_rows or result_hydration_column >= total_hydration_columns or result_energy_row < 0 or result_hydration_column < 0:\n",
    "            #print(f\"  provision lands out of bounds, skipping (e,h): {result_energy_row}, {result_hydration_column}. name: {name}, price: {price}, energy: {energy}, hydration: {hydration}\")\n",
    "            continue\n",
    "        \n",
    "        curr_combo_price = dp_arr[start_energy_row][start_hydration_column] + price\n",
    "        curr_combo_provisions = dp_provisions_arr[start_energy_row][start_hydration_column] + [name]\n",
    "        if dp_arr[result_energy_row][result_hydration_column] > curr_combo_price:\n",
    "            dp_arr[result_energy_row][result_hydration_column] = curr_combo_price\n",
    "            dp_provisions_arr[result_energy_row][result_hydration_column] = curr_combo_provisions\n",
    "\n",
    "            valid_start_points.append((result_energy_row, result_hydration_column))\n",
    "\n",
    "            for energy_row in range(0, result_energy_row):\n",
    "                for hydration_column in range(0, result_hydration_column):\n",
    "                    if energy_row < start_energy_row and hydration_column < start_hydration_column:\n",
    "                        continue\n",
    "                    if dp_arr[energy_row][hydration_column] > curr_combo_price:\n",
    "                        dp_arr[energy_row][hydration_column] = curr_combo_price\n",
    "                        dp_provisions_arr[energy_row][hydration_column] = curr_combo_provisions\n",
    "print(f\"starting energy: {current_energy}, starting hydration: {current_hydration}\")\n",
    "print(f\"target energy: {min_energy}, target hydration: {min_hydration}\")\n",
    "print(f\"need to consume {energy_diff} energy and {hydration_diff} hydration\")\n",
    "print(f\"minimal price price to reach the goal: {dp_arr[energy_diff][hydration_diff]}\")\n",
    "print(f\"achieved by: \")\n",
    "for provision_name in dp_provisions_arr[energy_diff][hydration_diff]:\n",
    "    print(f\"    name: {provision_name}, price: {full_dict[provision_name][0]}, energy: {full_dict[provision_name][1]}, hydration: {full_dict[provision_name][2]}\")\n",
    "print(f\"final energy: {current_energy + sum([full_dict[provision_name][1] for provision_name in dp_provisions_arr[energy_diff][hydration_diff]])}\")\n",
    "print(f\"final hydration: {current_hydration + sum([full_dict[provision_name][2] for provision_name in dp_provisions_arr[energy_diff][hydration_diff]])}\")\n",
    "\n",
    "        \n",
    "\n",
    "\n"
   ]
  },
  {
   "cell_type": "code",
   "execution_count": 23,
   "metadata": {},
   "outputs": [],
   "source": [
    "def best_to_consume(current_energy, current_hydration, goal_energy, goal_hydration, reference_dict):\n",
    "    \"\"\"\n",
    "    Returns the best item to consume based on the current energy and hydration levels.\n",
    "    \"\"\"\n",
    "\n",
    "    #set up the re-used variables and the DP array\n",
    "    energy_difference = goal_energy - current_energy\n",
    "    hydration_difference = goal_hydration - current_hydration\n",
    "    total_energy_rows = energy_difference + 100\n",
    "    total_hydration_columns = hydration_difference + 100\n",
    "\n",
    "\n",
    "    dp_arr = [[float('inf') for i in range(total_hydration_columns)] for j in range(total_energy_rows)]\n",
    "    dp_arr[0][0] = 0\n",
    "    dp_provisions_arr = [[[] for i in range(total_hydration_columns)] for j in range(total_energy_rows)]\n",
    "    valid_start_points = [(0,0)]\n",
    "\n",
    "\n",
    "    while valid_start_points:\n",
    "        start_energy_row, start_hydration_column = valid_start_points.pop(0)\n",
    "        #print(f\"trying starting point (e,h): {start_energy_row}, {start_hydration_column}\")\n",
    "\n",
    "        if start_energy_row >= energy_difference and start_hydration_column >= hydration_difference:\n",
    "            #print(f\"  starting point too far, removing (e,h): {start_energy_row}, {start_hydration_column}\")\n",
    "            continue\n",
    "        \n",
    "        for name, provision_attributes in reference_dict.items():\n",
    "            price, energy, hydration = provision_attributes[0], provision_attributes[1], provision_attributes[2]\n",
    "        \n",
    "            #print(f\"  starting point valid, jumping from (e,h): {start_energy_row}, {start_hydration_column}\")\n",
    "            result_energy_row = start_energy_row + energy\n",
    "            result_hydration_column = start_hydration_column + hydration\n",
    "\n",
    "            #check for out of bounds/negative effects\n",
    "            if result_energy_row >= total_energy_rows or result_hydration_column >= total_hydration_columns or result_energy_row < 0 or result_hydration_column < 0:\n",
    "                #print(f\"  provision lands out of bounds, skipping (e,h): {result_energy_row}, {result_hydration_column}. name: {name}, price: {price}, energy: {energy}, hydration: {hydration}\")\n",
    "                continue\n",
    "            \n",
    "            curr_combo_price = dp_arr[start_energy_row][start_hydration_column] + price\n",
    "            if dp_arr[result_energy_row][result_hydration_column] > curr_combo_price:\n",
    "                dp_arr[result_energy_row][result_hydration_column] = curr_combo_price\n",
    "                curr_combo_provisions = dp_provisions_arr[start_energy_row][start_hydration_column] + [name]\n",
    "                dp_provisions_arr[result_energy_row][result_hydration_column] = curr_combo_provisions\n",
    "\n",
    "                valid_start_points.append((result_energy_row, result_hydration_column))\n",
    "\n",
    "                for energy_row in range(0, result_energy_row):\n",
    "                    for hydration_column in range(0, result_hydration_column):\n",
    "                        if energy_row < start_energy_row and hydration_column < start_hydration_column:\n",
    "                            continue\n",
    "                        if dp_arr[energy_row][hydration_column] > curr_combo_price:\n",
    "                            dp_arr[energy_row][hydration_column] = curr_combo_price\n",
    "                            dp_provisions_arr[energy_row][hydration_column] = curr_combo_provisions\n",
    "    print(f\"starting energy: {current_energy}, starting hydration: {current_hydration}\")\n",
    "    print(f\"target energy: {goal_energy}, target hydration: {goal_hydration}\")\n",
    "    print(f\"need to consume {energy_difference} energy and {hydration_difference} hydration\")\n",
    "    print(f\"minimal price price to reach the goal: {dp_arr[energy_difference][hydration_difference]}\")\n",
    "    print(f\"achieved by: \")\n",
    "    for provision_name in dp_provisions_arr[energy_difference][hydration_difference]:\n",
    "        print(f\"    name: {provision_name}, price: {reference_dict[provision_name][0]}, energy: {reference_dict[provision_name][1]}, hydration: {reference_dict[provision_name][2]}\")\n",
    "    print(f\"final energy: {current_energy + sum([reference_dict[provision_name][1] for provision_name in dp_provisions_arr[energy_difference][hydration_difference]])}\")\n",
    "    print(f\"final hydration: {current_hydration + sum([reference_dict[provision_name][2] for provision_name in dp_provisions_arr[energy_difference][hydration_difference]])}\")\n",
    "\n",
    "        \n"
   ]
  },
  {
   "cell_type": "code",
   "execution_count": 24,
   "metadata": {},
   "outputs": [
    {
     "name": "stdout",
     "output_type": "stream",
     "text": [
      "starting energy: 22, starting hydration: 13\n",
      "target energy: 90, target hydration: 90\n",
      "need to consume 68 energy and 77 hydration\n",
      "minimal price price to reach the goal: 39663\n",
      "achieved by: \n",
      "    name: Aquamari water bottle with filter, price: 25756, energy: 20, hydration: 100\n",
      "    name: Can of sprats, price: 13907, energy: 55, hydration: -5\n",
      "final energy: 97\n",
      "final hydration: 108\n"
     ]
    }
   ],
   "source": [
    "best_to_consume(22, 13, 90, 90, full_dict)"
   ]
  }
 ],
 "metadata": {
  "kernelspec": {
   "display_name": ".venv",
   "language": "python",
   "name": "python3"
  },
  "language_info": {
   "codemirror_mode": {
    "name": "ipython",
    "version": 3
   },
   "file_extension": ".py",
   "mimetype": "text/x-python",
   "name": "python",
   "nbconvert_exporter": "python",
   "pygments_lexer": "ipython3",
   "version": "3.11.1"
  }
 },
 "nbformat": 4,
 "nbformat_minor": 2
}
