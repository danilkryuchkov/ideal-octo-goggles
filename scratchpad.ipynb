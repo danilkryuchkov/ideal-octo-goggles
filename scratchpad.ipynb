{
 "cells": [
  {
   "cell_type": "code",
   "execution_count": 1,
   "metadata": {},
   "outputs": [],
   "source": [
    "from items_dict import items_dict, new_items_dict, all_provision_urls"
   ]
  },
  {
   "cell_type": "code",
   "execution_count": 5,
   "metadata": {},
   "outputs": [
    {
     "name": "stdout",
     "output_type": "stream",
     "text": [
      "1 5555 Green_Ice\n",
      "2 20500 Squash_spread\n",
      "3 10500 Can_of_green_peas\n",
      "4 22000 Rye_croutons\n",
      "5 20000 Pack_of_oat_flakes\n",
      "6 25555 TarCola\n",
      "7 6666 Emelya_rye_croutons\n",
      "8 25000 Pack_of_milk\n",
      "9 15400 Can_of_pacific_saury\n",
      "10 14999 Condensed_milk\n",
      "11 13333 Can_of_sprats\n",
      "12 21010 Can_of_delicious_beef_stew\n",
      "13 20000 can_of_ratcola\n",
      "14 7800 Jar_of_DevilDog_mayo\n",
      "15 12011 Can_of_beef_stew\n",
      "16 275000 fierce_hatchling_moonshine\n",
      "17 27710 Iskra_lunch_box\n",
      "18 11000 Grand_juice\n",
      "19 15666 salty_dog_beef_sausage\n",
      "20 28000 premium_kvass_norvinskiy_yadreniy_0.6l_bottle\n",
      "21 10000 Russian_Army_pineapple_juice\n",
      "22 31000 Bottle_of_vodka_Tarkovskaya\n",
      "23 23333 Pack_of_sugar\n",
      "24 11000 Hot_Rod\n",
      "25 19999 Alyonka_chocolate_bar\n",
      "26 26666 Water_bottle_with_a_filter_Aquamari\n",
      "27 29998 Bottle_of_Dan_Jackiel_Whiskey\n",
      "28 17000 bottle_of_beer_pevko_light\n",
      "29 12000 Apple_juice\n",
      "30 14888 Vita_juice\n",
      "31 21999 Can_of_herring\n",
      "32 16998 0.6L_water_bottle\n",
      "33 7800 pack_of_instant_noodles\n",
      "34 14000 Humpback_salmon\n",
      "35 19000 MRE_lunch_box\n",
      "36 11777 Max_energy\n",
      "37 184444 purified_water\n",
      "38 9948 Slickers_bar\n",
      "39 14000 Army_Crackers\n",
      "40 10900 pack_of_tarker_dried_meat\n",
      "41 17666 emergency_water_ration\n"
     ]
    }
   ],
   "source": [
    "import requests\n",
    "from bs4 import BeautifulSoup\n",
    "import re\n",
    "\n",
    "base_url = \"https://tarkov-market.com/item/\"\n",
    "\n",
    "for count, item in enumerate(all_provision_urls):\n",
    "    url = base_url + item\n",
    "    page = requests.get(url)\n",
    "    soup = BeautifulSoup(page.content, 'html.parser')\n",
    "    fle_price_text = soup.find('div', class_='big bold alt').text\n",
    "    fle_price = int(re.sub(r'\\D', '', fle_price_text))\n",
    "    print(count + 1, fle_price, item)\n"
   ]
  }
 ],
 "metadata": {
  "kernelspec": {
   "display_name": ".venv",
   "language": "python",
   "name": "python3"
  },
  "language_info": {
   "codemirror_mode": {
    "name": "ipython",
    "version": 3
   },
   "file_extension": ".py",
   "mimetype": "text/x-python",
   "name": "python",
   "nbconvert_exporter": "python",
   "pygments_lexer": "ipython3",
   "version": "3.11.1"
  }
 },
 "nbformat": 4,
 "nbformat_minor": 2
}
