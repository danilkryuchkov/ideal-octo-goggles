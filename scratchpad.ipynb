{
 "cells": [
  {
   "cell_type": "code",
   "execution_count": 2,
   "metadata": {},
   "outputs": [],
   "source": [
    "from items_dict import items_dict, all_provision_urls"
   ]
  },
  {
   "cell_type": "code",
   "execution_count": null,
   "metadata": {},
   "outputs": [],
   "source": [
    "for item in items_dict.items():\n",
    "    print(item[1][2])"
   ]
  },
  {
   "cell_type": "code",
   "execution_count": 3,
   "metadata": {},
   "outputs": [
    {
     "name": "stdout",
     "output_type": "stream",
     "text": [
      "1 Emelya rye croutons [10, -10, 'Emelya_rye_croutons', 6666]\n",
      "2 Army crackers [10, -5, 'Army_Crackers', 14000]\n",
      "3 Rye croutons [20, -10, 'Rye_croutons', 22000]\n",
      "4 Slickers chocolate bar [30, -15, 'Slickers_bar', 9948]\n",
      "5 Alyonka chocolate bar [35, -15, 'Alyonka_chocolate_bar', 19999]\n",
      "6 Pack of oat flakes [40, -13, 'Pack_of_oat_flakes', 20000]\n",
      "7 Pack of sugar [70, -45, 'Pack_of_sugar', 23333]\n",
      "8 Can of condensed milk [75, -6, 'Condensed_milk', 14999]\n",
      "9 Jar of DevilDog mayo [100, -99, 'Jar_of_DevilDog_mayo', 7777]\n",
      "10 Can of beef stew [Small] [45, -5, 'Can_of_beef_stew', 12011]\n",
      "11 Can of herring [47, -3, 'Can_of_herring', 21999]\n",
      "12 Can of pacific saury [48, -2, 'Can_of_pacific_saury', 15400]\n",
      "13 Can of beef stew [Large] [50, -5, 'Can_of_delicious_beef_stew', 19998]\n",
      "14 Can of humpback salmon [50, -5, 'Humpback_salmon', 14000]\n",
      "15 Salty Dog beef sausage [50, -5, 'salty_dog_beef_sausage', 15666]\n",
      "16 Can of sprats [55, -5, 'Can_of_sprats', 13333]\n",
      "17 Can of green peas [35, 5, 'Can_of_green_peas', 10000]\n",
      "18 Pack of Tarker dried meat [55, -5, 'pack_of_tarker_dried_meat', 10900]\n",
      "19 Pack of instant noodles [25, -10, 'pack_of_instant_noodles', 7800]\n",
      "20 Can of squash spread [40, 0, 'Squash_spread', 20500]\n",
      "21 MRE ration pack [70, 0, 'MRE_lunch_box', 15000]\n",
      "22 Iskra ration pack [80, 0, 'Iskra_lunch_box', 27710]\n",
      "23 Can of Ice Green tea [0, 15, 'Green_Ice', 5555]\n",
      "24 Can of TarCola soda [5, 15, 'TarCola', 16555]\n",
      "25 Pack of apple juice [5, 25, 'Apple_juice', 12000]\n",
      "26 Can of Hot Rod energy drink [10, 20, 'Hot_Rod', 11000]\n",
      "27 Can of Max Energy energy drink [12, 20, 'Max_energy', 11777]\n",
      "28 Pack of Vita juice [8, 28, 'Vita_juice', 14888]\n",
      "29 Pack of Grand juice [6, 30, 'Grand_juice', 11000]\n",
      "30 Pack of Russian Army pineapple juice [8, 30, 'Russian_Army_pineapple_juice', 10000]\n",
      "31 Can of RatCola soda [20, 20, 'can_of_ratcola', 20000]\n",
      "32 Pack of milk [20, 30, 'Pack_of_milk', 25000]\n",
      "33 Bottle of Pevko Light beer [10, 40, 'bottle_of_beer_pevko_light', 24333]\n",
      "34 Emergency Water Ration [5, 50, 'emergency_water_ration', 17666]\n",
      "35 Bottle of water [0.6L] [0, 60, '0.6L_water_bottle', 16998]\n",
      "36 Bottle of Norvinskiy Yadreniy premium kvass [0.6L] [15, 65, 'premium_kvass_norvinskiy_yadreniy_0.6l_bottle', 28000]\n",
      "37 Aquamari water bottle with filter [20, 100, 'Water_bottle_with_a_filter_Aquamari', 26666]\n",
      "38 Canister with purified water [25, 100, 'purified_water', 184444]\n",
      "39 Bottle of Dan Jackiel whiskey [10, -3, 'Bottle_of_Dan_Jackiel_Whiskey', 29998]\n",
      "40 Bottle of Tarkovskaya vodka [0, -50, 'Bottle_of_vodka_Tarkovskaya', 31000]\n",
      "41 Bottle of Fierce Hatchling moonshine [20, -10, 'fierce_hatchling_moonshine', 275000]\n"
     ]
    }
   ],
   "source": [
    "import requests\n",
    "from bs4 import BeautifulSoup\n",
    "import re\n",
    "import pandas as pd\n",
    "\n",
    "base_url = \"https://tarkov-market.com/item/\"\n",
    "\n",
    "for count, item in enumerate(items_dict.items()):\n",
    "    url = base_url + item[1][2]\n",
    "    page = requests.get(url)\n",
    "    soup = BeautifulSoup(page.content, 'html.parser')\n",
    "    fle_price_text = soup.find('div', class_='big bold alt').text\n",
    "    fle_price = int(re.sub(r'\\D', '', fle_price_text))\n",
    "    items_dict[item[0]].append(fle_price)\n",
    "    print(count+1, item[0], items_dict[item[0]])\n",
    "\n",
    "df = pd.DataFrame.from_dict(items_dict, orient='index', columns=['energy', 'hydration', 'url', 'price']).reset_index()\n",
    "\n",
    "# Rename the 'index' column to 'name'\n",
    "df = df.rename(columns={'index': 'name'})\n",
    "\n",
    "df.to_csv('current_items.csv', index=False)\n"
   ]
  }
 ],
 "metadata": {
  "kernelspec": {
   "display_name": ".venv",
   "language": "python",
   "name": "python3"
  },
  "language_info": {
   "codemirror_mode": {
    "name": "ipython",
    "version": 3
   },
   "file_extension": ".py",
   "mimetype": "text/x-python",
   "name": "python",
   "nbconvert_exporter": "python",
   "pygments_lexer": "ipython3",
   "version": "3.11.1"
  }
 },
 "nbformat": 4,
 "nbformat_minor": 2
}
