{
 "cells": [
  {
   "cell_type": "code",
   "execution_count": 2,
   "metadata": {},
   "outputs": [],
   "source": [
    "from items_dict import items_dict, all_provision_urls"
   ]
  },
  {
   "cell_type": "code",
   "execution_count": null,
   "metadata": {},
   "outputs": [],
   "source": [
    "for item in items_dict.items():\n",
    "    print(item[1][2])"
   ]
  },
  {
   "cell_type": "code",
   "execution_count": null,
   "metadata": {},
   "outputs": [],
   "source": [
    "import requests\n",
    "from bs4 import BeautifulSoup\n",
    "import re\n",
    "import pandas as pd\n",
    "\n",
    "base_url = \"https://tarkov-market.com/item/\"\n",
    "\n",
    "for count, item in enumerate(items_dict.items()):\n",
    "    url = base_url + item[1][2]\n",
    "    page = requests.get(url)\n",
    "    soup = BeautifulSoup(page.content, 'html.parser')\n",
    "    fle_price_text = soup.find('div', class_='big bold alt').text\n",
    "    fle_price = int(re.sub(r'\\D', '', fle_price_text))\n",
    "    items_dict[item[0]].append(fle_price)\n",
    "    print(count+1, item[0], items_dict[item[0]])\n",
    "\n",
    "df = pd.DataFrame.from_dict(items_dict, orient='index', columns=['energy', 'hydration', 'url', 'price']).reset_index()\n",
    "\n",
    "# Rename the 'index' column to 'name'\n",
    "df = df.rename(columns={'index': 'name'})\n",
    "\n",
    "df.to_csv('current_items.csv', index=False)\n"
   ]
  },
  {
   "cell_type": "code",
   "execution_count": null,
   "metadata": {},
   "outputs": [],
   "source": [
    "import time\n",
    "from utils import *\n",
    "import pandas as pd\n",
    "df = pd.read_csv('current_items.csv')\n",
    "\n",
    "\n",
    "current_energy = 50\n",
    "current_hydration = 50\n",
    "goal_energy = 100\n",
    "goal_hydration = 100\n",
    "\n",
    "start = time.perf_counter()\n",
    "result = best_to_consume_df(current_energy, current_hydration, goal_energy, goal_hydration, df)\n",
    "print(result)\n",
    "end = time.perf_counter()\n",
    "elapsed = end - start\n",
    "print(f'Time taken best_to_consume_df: {elapsed:.6f} s')\n",
    "\n",
    "start = time.perf_counter()\n",
    "result = best_to_consume_dict(current_energy, current_hydration, goal_energy, goal_hydration, df)\n",
    "print(result)\n",
    "end = time.perf_counter()\n",
    "elapsed = end - start\n",
    "print(f'Time taken best_to_consume_dict: {elapsed:.6f} s')"
   ]
  },
  {
   "cell_type": "code",
   "execution_count": 2,
   "metadata": {},
   "outputs": [],
   "source": [
    "from utils import *\n",
    "import pandas as pd\n",
    "df = pd.read_csv('current_items.csv')\n",
    "\n",
    "current_energy = 20\n",
    "current_hydration = 0\n",
    "goal_energy = 100\n",
    "goal_hydration = 100\n",
    "\n",
    "result = best_to_comusme_fast(current_energy, current_hydration, goal_energy, goal_hydration, df)\n",
    "print(f\"result: {result}\")"
   ]
  },
  {
   "cell_type": "code",
   "execution_count": 2,
   "metadata": {},
   "outputs": [
    {
     "name": "stdout",
     "output_type": "stream",
     "text": [
      "5243\n"
     ]
    }
   ],
   "source": [
    "print(len(result))"
   ]
  }
 ],
 "metadata": {
  "kernelspec": {
   "display_name": ".venv",
   "language": "python",
   "name": "python3"
  },
  "language_info": {
   "codemirror_mode": {
    "name": "ipython",
    "version": 3
   },
   "file_extension": ".py",
   "mimetype": "text/x-python",
   "name": "python",
   "nbconvert_exporter": "python",
   "pygments_lexer": "ipython3",
   "version": "3.10.11"
  }
 },
 "nbformat": 4,
 "nbformat_minor": 2
}
